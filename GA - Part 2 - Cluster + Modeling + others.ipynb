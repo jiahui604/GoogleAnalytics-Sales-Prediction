{
 "cells": [
  {
   "cell_type": "code",
   "execution_count": 1,
   "metadata": {},
   "outputs": [
    {
     "name": "stderr",
     "output_type": "stream",
     "text": [
      "C:\\Users\\wanyi\\Anaconda3\\lib\\site-packages\\statsmodels\\tools\\_testing.py:19: FutureWarning: pandas.util.testing is deprecated. Use the functions in the public API at pandas.testing instead.\n",
      "  import pandas.util.testing as tm\n"
     ]
    }
   ],
   "source": [
    "import pandas as pd\n",
    "import numpy as np\n",
    "import seaborn as sns\n",
    "import matplotlib as mpl\n",
    "import matplotlib.pyplot as plt\n",
    "import sklearn\n",
    "from sklearn.utils import check_random_state\n",
    "from sklearn.cluster import KMeans\n",
    "from sklearn.preprocessing import StandardScaler"
   ]
  },
  {
   "cell_type": "markdown",
   "metadata": {},
   "source": [
    "# Load data from EDA and cleaning\n"
   ]
  },
  {
   "cell_type": "code",
   "execution_count": 3,
   "metadata": {},
   "outputs": [],
   "source": [
    "train = pd.read_csv('C:/Users/wanyi/Desktop/Data Mining/Final project/Stage 1/Jiahui data/without_outlier/train_no_outlier.csv')\n",
    "test = pd.read_csv('C:/Users/wanyi/Desktop/Data Mining/Final project/Stage 1/Jiahui data/without_outlier/test_no_outlier.csv')\n",
    "combined = pd.concat([train, test])"
   ]
  },
  {
   "cell_type": "markdown",
   "metadata": {},
   "source": [
    "* We included Transactionrevenue for Marktering strategy and customer segmentation purposes. \n",
    "* However, for revenue prediction, we excluded Transactionrevenue as we would not have responses for testing data and future work.\n"
   ]
  },
  {
   "cell_type": "markdown",
   "metadata": {},
   "source": [
    "# Applying Kmeans"
   ]
  },
  {
   "cell_type": "code",
   "execution_count": 5,
   "metadata": {},
   "outputs": [],
   "source": [
    "key_features = ['avg_hits','avg_pageviews','visitNumber','bounces','subContinent_Northern America','channelGrouping_Referral','operatingSystem_Macintosh'] #this is from EDA and random forest feature importance\n",
    "train_data = combined[key_features]\n",
    "stscaler = StandardScaler().fit(train_data)\n",
    "train_data_scaled = stscaler.transform(train_data)"
   ]
  },
  {
   "cell_type": "code",
   "execution_count": null,
   "metadata": {},
   "outputs": [],
   "source": [
    "#Finding the number of cluster using the elbow rule \n",
    "ks = range(1,10) \n",
    "inertias = []\n",
    "for k in ks:\n",
    "    model = KMeans(n_clusters=k)\n",
    "    model.fit(train_data_scaled)\n",
    "    inertias.append(model.inertia_)"
   ]
  },
  {
   "cell_type": "code",
   "execution_count": null,
   "metadata": {},
   "outputs": [],
   "source": [
    "plt.plot(ks, inertias, '-o')\n",
    "plt.xlabel('number of clusters, k')\n",
    "plt.ylabel('inertia')\n",
    "plt.xticks()\n",
    "plt.show()"
   ]
  },
  {
   "cell_type": "code",
   "execution_count": 6,
   "metadata": {},
   "outputs": [
    {
     "name": "stdout",
     "output_type": "stream",
     "text": [
      "[3 3 0 ... 3 1 0]\n"
     ]
    }
   ],
   "source": [
    "#Interpretation of the inertia graph \n",
    "#Based on the graph, inertia started to slowly change less and less at N=5. As such, we take N=3 as the \"Elbow\" or optimal number of cluster\n",
    "#Finding the clustering label \n",
    "model = KMeans(n_clusters = 5)\n",
    "labels = model.fit_predict(train_data_scaled)\n",
    "print(labels)\n"
   ]
  },
  {
   "cell_type": "code",
   "execution_count": 7,
   "metadata": {},
   "outputs": [
    {
     "name": "stdout",
     "output_type": "stream",
     "text": [
      "704278\n"
     ]
    },
    {
     "data": {
      "text/plain": [
       "{0, 1, 2, 3, 4}"
      ]
     },
     "execution_count": 7,
     "metadata": {},
     "output_type": "execute_result"
    }
   ],
   "source": [
    "print(len(labels))\n",
    "set(labels)"
   ]
  },
  {
   "cell_type": "code",
   "execution_count": 24,
   "metadata": {},
   "outputs": [
    {
     "data": {
      "text/plain": [
       "<matplotlib.legend.Legend at 0x1ff08505b70>"
      ]
     },
     "execution_count": 24,
     "metadata": {},
     "output_type": "execute_result"
    },
    {
     "data": {
      "image/png": "[encoded data removed]",
      "text/plain": [
       "<Figure size 432x288 with 1 Axes>"
      ]
     },
     "metadata": {
      "needs_background": "light"
     },
     "output_type": "display_data"
    }
   ],
   "source": [
    "#Color the dataset based on the label and plot \n",
    "plt.scatter(train_data_scaled[labels == 0, 3], train_data_scaled[labels == 0, 0], s = 75, \n",
    "            c = 'red', label = 'Group1')\n",
    "plt.scatter(train_data_scaled[labels == 1, 3], train_data_scaled[labels == 1, 0], s = 75, \n",
    "            c = 'blue', label = 'Group2')\n",
    "plt.scatter(train_data_scaled[labels == 2, 3], train_data_scaled[labels == 2, 0], s = 75, \n",
    "            c = 'black', label = 'Group3')\n",
    "plt.scatter(train_data_scaled[labels == 3, 3], train_data_scaled[labels == 3, 0], s = 75, \n",
    "            c = 'orange', label = 'Group4')\n",
    "plt.scatter(train_data_scaled[labels == 4, 3], train_data_scaled[labels == 4, 0], s = 75, \n",
    "            c = 'green', label = 'Group5')\n",
    "plt.legend()\n",
    "\n",
    "#['avg_hits','avg_pageviews','visitNumber','bounces','subContinent_Northern America','channelGrouping_Referral','operatingSystem_Macintosh']"
   ]
  },
  {
   "cell_type": "code",
   "execution_count": 10,
   "metadata": {},
   "outputs": [
    {
     "data": {
      "text/html": [
       "<div>\n",
       "<style scoped>\n",
       "    .dataframe tbody tr th:only-of-type {\n",
       "        vertical-align: middle;\n",
       "    }\n",
       "\n",
       "    .dataframe tbody tr th {\n",
       "        vertical-align: top;\n",
       "    }\n",
       "\n",
       "    .dataframe thead th {\n",
       "        text-align: right;\n",
       "    }\n",
       "</style>\n",
       "<table border=\"1\" class=\"dataframe\">\n",
       "  <thead>\n",
       "    <tr style=\"text-align: right;\">\n",
       "      <th></th>\n",
       "      <th>avg_hits</th>\n",
       "      <th>avg_pageviews</th>\n",
       "      <th>visitNumber</th>\n",
       "      <th>bounces</th>\n",
       "      <th>subContinent_Northern America</th>\n",
       "      <th>channelGrouping_Referral</th>\n",
       "      <th>operatingSystem_Macintosh</th>\n",
       "    </tr>\n",
       "  </thead>\n",
       "  <tbody>\n",
       "    <tr>\n",
       "      <th>0</th>\n",
       "      <td>-0.393914</td>\n",
       "      <td>-0.429495</td>\n",
       "      <td>-0.066854</td>\n",
       "      <td>0.555878</td>\n",
       "      <td>-0.171351</td>\n",
       "      <td>-0.140866</td>\n",
       "      <td>-0.103712</td>\n",
       "    </tr>\n",
       "    <tr>\n",
       "      <th>1</th>\n",
       "      <td>0.704485</td>\n",
       "      <td>0.724890</td>\n",
       "      <td>3.938903</td>\n",
       "      <td>1.567305</td>\n",
       "      <td>3.692653</td>\n",
       "      <td>3.842120</td>\n",
       "      <td>3.478003</td>\n",
       "    </tr>\n",
       "    <tr>\n",
       "      <th>2</th>\n",
       "      <td>3.842375</td>\n",
       "      <td>3.850792</td>\n",
       "      <td>0.090537</td>\n",
       "      <td>-0.701218</td>\n",
       "      <td>0.358434</td>\n",
       "      <td>0.244960</td>\n",
       "      <td>0.128910</td>\n",
       "    </tr>\n",
       "    <tr>\n",
       "      <th>3</th>\n",
       "      <td>0.142166</td>\n",
       "      <td>0.186890</td>\n",
       "      <td>-0.104052</td>\n",
       "      <td>-0.741786</td>\n",
       "      <td>0.022551</td>\n",
       "      <td>-0.003199</td>\n",
       "      <td>-0.030019</td>\n",
       "    </tr>\n",
       "    <tr>\n",
       "      <th>4</th>\n",
       "      <td>0.325433</td>\n",
       "      <td>0.318801</td>\n",
       "      <td>27.988826</td>\n",
       "      <td>20.000015</td>\n",
       "      <td>22.977916</td>\n",
       "      <td>12.718354</td>\n",
       "      <td>16.174593</td>\n",
       "    </tr>\n",
       "  </tbody>\n",
       "</table>\n",
       "</div>"
      ],
      "text/plain": [
       "   avg_hits  avg_pageviews  visitNumber    bounces  \\\n",
       "0 -0.393914      -0.429495    -0.066854   0.555878   \n",
       "1  0.704485       0.724890     3.938903   1.567305   \n",
       "2  3.842375       3.850792     0.090537  -0.701218   \n",
       "3  0.142166       0.186890    -0.104052  -0.741786   \n",
       "4  0.325433       0.318801    27.988826  20.000015   \n",
       "\n",
       "   subContinent_Northern America  channelGrouping_Referral  \\\n",
       "0                      -0.171351                 -0.140866   \n",
       "1                       3.692653                  3.842120   \n",
       "2                       0.358434                  0.244960   \n",
       "3                       0.022551                 -0.003199   \n",
       "4                      22.977916                 12.718354   \n",
       "\n",
       "   operatingSystem_Macintosh  \n",
       "0                  -0.103712  \n",
       "1                   3.478003  \n",
       "2                   0.128910  \n",
       "3                  -0.030019  \n",
       "4                  16.174593  "
      ]
     },
     "execution_count": 10,
     "metadata": {},
     "output_type": "execute_result"
    }
   ],
   "source": [
    "# Centroid for customer group clustering \n",
    "centroid = model.cluster_centers_ #['avg_hits','avg_pageviews','visitNumber','bounces','subContinent_Northern America','channelGrouping_Referral','operatingSystem_Macintosh']\n",
    "centroid_table = pd.DataFrame(centroid, columns =['avg_hits','avg_pageviews','visitNumber','bounces','subContinent_Northern America','channelGrouping_Referral','operatingSystem_Macintosh'])\n",
    "centroid_table"
   ]
  },
  {
   "cell_type": "markdown",
   "metadata": {},
   "source": [
    "# PCA features with labels attached above - Just for visualization - No redo Kmeans again"
   ]
  },
  {
   "cell_type": "code",
   "execution_count": 12,
   "metadata": {},
   "outputs": [
    {
     "name": "stdout",
     "output_type": "stream",
     "text": [
      "[0.3993488  0.300718   0.12635367 0.08387386 0.06646024 0.02070365\n",
      " 0.00254178]\n"
     ]
    },
    {
     "data": {
      "text/html": [
       "<div>\n",
       "<style scoped>\n",
       "    .dataframe tbody tr th:only-of-type {\n",
       "        vertical-align: middle;\n",
       "    }\n",
       "\n",
       "    .dataframe tbody tr th {\n",
       "        vertical-align: top;\n",
       "    }\n",
       "\n",
       "    .dataframe thead th {\n",
       "        text-align: right;\n",
       "    }\n",
       "</style>\n",
       "<table border=\"1\" class=\"dataframe\">\n",
       "  <thead>\n",
       "    <tr style=\"text-align: right;\">\n",
       "      <th></th>\n",
       "      <th>0</th>\n",
       "      <th>1</th>\n",
       "      <th>2</th>\n",
       "    </tr>\n",
       "  </thead>\n",
       "  <tbody>\n",
       "    <tr>\n",
       "      <th>0</th>\n",
       "      <td>-0.788337</td>\n",
       "      <td>-0.297480</td>\n",
       "      <td>-0.293008</td>\n",
       "    </tr>\n",
       "    <tr>\n",
       "      <th>1</th>\n",
       "      <td>0.154178</td>\n",
       "      <td>-0.050641</td>\n",
       "      <td>-1.228471</td>\n",
       "    </tr>\n",
       "    <tr>\n",
       "      <th>2</th>\n",
       "      <td>-0.628526</td>\n",
       "      <td>0.640844</td>\n",
       "      <td>0.255396</td>\n",
       "    </tr>\n",
       "    <tr>\n",
       "      <th>3</th>\n",
       "      <td>-0.422694</td>\n",
       "      <td>-0.123612</td>\n",
       "      <td>-0.279979</td>\n",
       "    </tr>\n",
       "    <tr>\n",
       "      <th>4</th>\n",
       "      <td>-0.221903</td>\n",
       "      <td>0.694420</td>\n",
       "      <td>0.308281</td>\n",
       "    </tr>\n",
       "  </tbody>\n",
       "</table>\n",
       "</div>"
      ],
      "text/plain": [
       "          0         1         2\n",
       "0 -0.788337 -0.297480 -0.293008\n",
       "1  0.154178 -0.050641 -1.228471\n",
       "2 -0.628526  0.640844  0.255396\n",
       "3 -0.422694 -0.123612 -0.279979\n",
       "4 -0.221903  0.694420  0.308281"
      ]
     },
     "execution_count": 12,
     "metadata": {},
     "output_type": "execute_result"
    }
   ],
   "source": [
    "from sklearn.decomposition import PCA \n",
    "pca_model = PCA() \n",
    "pca_model.fit(train_data_scaled)\n",
    "pca_transformed = pca_model.transform(train_data_scaled)\n",
    "print(pca_model.explained_variance_ratio_)\n",
    "pca_train_data = pd.DataFrame(pca_transformed).iloc[:,0:3] #first three pca \n",
    "pca_train_data.head()"
   ]
  },
  {
   "cell_type": "code",
   "execution_count": 14,
   "metadata": {},
   "outputs": [],
   "source": [
    "stscaler = StandardScaler().fit(pca_train_data)\n",
    "train_data_scaled_pca = stscaler.transform(pca_train_data)"
   ]
  },
  {
   "cell_type": "code",
   "execution_count": 15,
   "metadata": {},
   "outputs": [
    {
     "data": {
      "text/plain": [
       "<matplotlib.legend.Legend at 0x1d0bfa4c8d0>"
      ]
     },
     "execution_count": 15,
     "metadata": {},
     "output_type": "execute_result"
    },
    {
     "data": {
      "image/png": "[encoded data removed]",
      "text/plain": [
       "<Figure size 432x288 with 1 Axes>"
      ]
     },
     "metadata": {
      "needs_background": "light"
     },
     "output_type": "display_data"
    }
   ],
   "source": [
    "#Color the dataset based on the label and plot \n",
    "plt.scatter(train_data_scaled_pca[labels == 0, 1], train_data_scaled_pca[labels == 0, 0], s = 75, \n",
    "            c = 'red', label = 'Group1')\n",
    "plt.scatter(train_data_scaled_pca[labels == 1, 1], train_data_scaled_pca[labels == 1, 0], s = 75, \n",
    "            c = 'blue', label = 'Group2')\n",
    "plt.scatter(train_data_scaled_pca[labels == 2, 1], train_data_scaled_pca[labels == 2, 0], s = 75, \n",
    "            c = 'black', label = 'Group3')\n",
    "plt.scatter(train_data_scaled_pca[labels == 3, 1], train_data_scaled_pca[labels == 3, 0], s = 75, \n",
    "            c = 'orange', label = 'Group4')\n",
    "plt.scatter(train_data_scaled_pca[labels == 4, 1], train_data_scaled_pca[labels == 4, 0], s = 75, \n",
    "            c = 'green', label = 'Group5')\n",
    "\n",
    "plt.legend()"
   ]
  },
  {
   "cell_type": "code",
   "execution_count": 20,
   "metadata": {},
   "outputs": [
    {
     "data": {
      "image/png": "[encoded data removed]",
      "text/plain": [
       "<Figure size 432x288 with 1 Axes>"
      ]
     },
     "metadata": {
      "needs_background": "light"
     },
     "output_type": "display_data"
    }
   ],
   "source": [
    "from mpl_toolkits.mplot3d import Axes3D\n",
    "from mpl_toolkits import mplot3d\n",
    "%matplotlib inline\n",
    "import numpy as np\n",
    "import matplotlib.pyplot as plt\n",
    "ax = plt.axes(projection='3d')\n",
    "# Data for a three-dimensional line\n",
    "zline = np.linspace(0, 15, 1000)\n",
    "xline = np.sin(zline)\n",
    "yline = np.cos(zline)\n",
    "ax.plot3D(xline, yline, zline, 'gray')\n",
    "# Data for three-dimensional scattered points\n",
    "xdata = pca_train_data.iloc[:,0]\n",
    "ydata = pca_train_data.iloc[:,1]\n",
    "zdata = pca_train_data.iloc[:,2]\n",
    "ax.scatter3D(xdata, ydata, zdata, c=zdata, cmap='Greens');"
   ]
  },
  {
   "cell_type": "code",
   "execution_count": 21,
   "metadata": {},
   "outputs": [],
   "source": [
    "group0 = pca_train_data[labels ==0].index.tolist()\n",
    "group1 = pca_train_data[labels ==1].index.tolist()\n",
    "group2 = pca_train_data[labels ==2].index.tolist()\n",
    "group3 = pca_train_data[labels ==3].index.tolist()\n",
    "group4 = pca_train_data[labels ==4].index.tolist()"
   ]
  },
  {
   "cell_type": "code",
   "execution_count": 22,
   "metadata": {},
   "outputs": [
    {
     "data": {
      "image/png": "[encoded data removed]",
      "text/plain": [
       "<Figure size 432x288 with 1 Axes>"
      ]
     },
     "metadata": {
      "needs_background": "light"
     },
     "output_type": "display_data"
    }
   ],
   "source": [
    "from mpl_toolkits import mplot3d\n",
    "fig=plt.figure()\n",
    "ax=Axes3D(fig)\n",
    "ax.scatter(pca_train_data.iloc[group0,0],pca_train_data.iloc[group0,1],pca_train_data.iloc[group0,2],color='red')\n",
    "ax.scatter(pca_train_data.iloc[group1,0],pca_train_data.iloc[group1,1],pca_train_data.iloc[group1,2],color='blue')\n",
    "ax.scatter(pca_train_data.iloc[group2,0],pca_train_data.iloc[group2,1],pca_train_data.iloc[group2,2],color='black')\n",
    "ax.scatter(pca_train_data.iloc[group3,0],pca_train_data.iloc[group3,1],pca_train_data.iloc[group3,2],color='orange')\n",
    "ax.scatter(pca_train_data.iloc[group4,0],pca_train_data.iloc[group4,1],pca_train_data.iloc[group4,2],color='green')\n",
    "plt.show()"
   ]
  },
  {
   "cell_type": "code",
   "execution_count": 23,
   "metadata": {},
   "outputs": [
    {
     "data": {
      "image/png": "[encoded data removed]",
      "text/plain": [
       "<Figure size 432x288 with 1 Axes>"
      ]
     },
     "metadata": {
      "needs_background": "light"
     },
     "output_type": "display_data"
    }
   ],
   "source": [
    "fig=plt.figure()\n",
    "ax=Axes3D(fig)\n",
    "ax.scatter(pca_train_data.iloc[group0,1],pca_train_data.iloc[group0,0],pca_train_data.iloc[group0,2],color='red')\n",
    "ax.scatter(pca_train_data.iloc[group1,1],pca_train_data.iloc[group1,0],pca_train_data.iloc[group1,2],color='blue')\n",
    "ax.scatter(pca_train_data.iloc[group2,1],pca_train_data.iloc[group2,0],pca_train_data.iloc[group2,2],color='black')\n",
    "ax.scatter(pca_train_data.iloc[group3,1],pca_train_data.iloc[group3,0],pca_train_data.iloc[group3,2],color='orange')\n",
    "ax.scatter(pca_train_data.iloc[group4,1],pca_train_data.iloc[group4,0],pca_train_data.iloc[group4,2],color='green')\n",
    "plt.show()"
   ]
  },
  {
   "cell_type": "markdown",
   "metadata": {},
   "source": [
    "# Conclusion from above (centroid and visualization)\n",
    "* Five color clusters = Red,Blue,Black,Green,Orange\n",
    "* Five lables = 0,1,2,3,4\n",
    "* Based on the centroids, we noted that cluster 0 and 1 are similar as such for modeling purpose we group those group into one cluster for prediction. "
   ]
  },
  {
   "cell_type": "markdown",
   "metadata": {},
   "source": [
    "# Export Data\n"
   ]
  },
  {
   "cell_type": "code",
   "execution_count": 27,
   "metadata": {},
   "outputs": [
    {
     "name": "stdout",
     "output_type": "stream",
     "text": [
      "376912\n",
      "11507\n",
      "25776\n",
      "289808\n",
      "275\n"
     ]
    }
   ],
   "source": [
    "print(combined[labels == 0].shape[0]) #red\n",
    "print(combined[labels == 1].shape[0]) #blue\n",
    "print(combined[labels == 2].shape[0]) #black\n",
    "print(combined[labels == 3].shape[0]) #orange\n",
    "print(combined[labels == 4].shape[0]) #green\n"
   ]
  },
  {
   "cell_type": "code",
   "execution_count": 26,
   "metadata": {},
   "outputs": [],
   "source": [
    "Cluster0 = combined[labels == 0]\n",
    "Cluster1 = combined[labels == 1]\n",
    "Cluster2 = combined[labels == 2]\n",
    "Cluster3 = combined[labels == 3]\n",
    "Cluster4 = combined[labels == 4]"
   ]
  },
  {
   "cell_type": "code",
   "execution_count": null,
   "metadata": {},
   "outputs": [],
   "source": [
    "Cluster0.to_csv('Cluster0.csv')\n",
    "Cluster1.to_csv('Cluster1.csv')\n",
    "Cluster2.to_csv('Cluster2.csv')\n",
    "Cluster3.to_csv('Cluster3.csv')\n",
    "Cluster4.to_csv('Cluster4.csv')"
   ]
  },
  {
   "cell_type": "markdown",
   "metadata": {},
   "source": [
    "# Below we have also tried another three different clustering method including:\n",
    "\n",
    "* DBSCAN - result had way to much cluster - curse of dimensionality.\n",
    "* TSNE  - result had one giant cloud - no clear cluster - dimension reduced and no proper interpretations. \n",
    "* Hierarchical - Works for small dataset and result if not as good as Kmeans. \n",
    "\n",
    "# However, Kmeans turned out to be the best result for clustering."
   ]
  },
  {
   "cell_type": "markdown",
   "metadata": {},
   "source": [
    "# applying DBSCAN "
   ]
  },
  {
   "cell_type": "code",
   "execution_count": null,
   "metadata": {},
   "outputs": [],
   "source": [
    "#Determine epsilon \n",
    "from sklearn.neighbors import NearestNeighbors\n",
    "import math\n",
    "\n",
    "nbrs = NearestNeighbors(n_neighbors = round(math.log(len(train_data_scaled)))).fit(train_data_scaled)\n",
    "distances, indices = nbrs.kneighbors(train_data_scaled)\n",
    "distances = np.sort(distances, axis=0)\n",
    "distances = distances[:,1]\n",
    "plt.plot(distances)"
   ]
  },
  {
   "cell_type": "code",
   "execution_count": null,
   "metadata": {},
   "outputs": [],
   "source": [
    "from sklearn.cluster import DBSCAN\n",
    "\n",
    "dbsc = DBSCAN(eps = 4 , min_samples = np.log(train_data_scaled.shape[0])).fit(train_data_scaled)\n",
    "#For number of min_samples, I used ln(n), where n is the total number of points to be clustered per Utku's Canvas annoucement \n",
    "# For eps, I used 0.3 based on estimation in the following code block below. \n",
    "labels = dbsc.labels_\n",
    "core_samples = np.zeros_like(labels, dtype = bool)\n",
    "core_samples[dbsc.core_sample_indices_] = True\n",
    "\n",
    "unique_labels = np.unique(labels)\n",
    "print(unique_labels)\n",
    "colors = plt.cm.Spectral(np.linspace(0,1, len(unique_labels)))\n",
    "for (label, color) in zip(unique_labels, colors):\n",
    "    class_member_mask = (labels == label)\n",
    "    xy = train_data_scaled[class_member_mask & core_samples]\n",
    "    plt.plot(xy[:,0],xy[:,1], 'o', markerfacecolor = color, markersize = 10)\n",
    "    \n",
    "    xy2 = train_data_scaled[class_member_mask & ~core_samples]\n",
    "    plt.plot(xy2[:,0],xy2[:,1], 'o', markerfacecolor = color, markersize = 10)\n"
   ]
  },
  {
   "cell_type": "code",
   "execution_count": null,
   "metadata": {},
   "outputs": [],
   "source": [
    "key_features = ['TransactionRevenue','avg_hits','avg_pageviews','visitNumber','bounces','subContinent_Northern America','channelGrouping_Referral','operatingSystem_Macintosh']\n",
    "train_data = train[key_features]\n",
    "train_data.head()"
   ]
  },
  {
   "cell_type": "code",
   "execution_count": null,
   "metadata": {},
   "outputs": [],
   "source": [
    "plt.title(\"DBSCAN on train_data_scaled\")\n",
    "plt.xlabel(\"PC1\")\n",
    "plt.ylabel(\"PC2\")\n",
    "plt.legend(unique_labels)"
   ]
  },
  {
   "cell_type": "markdown",
   "metadata": {},
   "source": [
    "# applying Hierarchical "
   ]
  },
  {
   "cell_type": "code",
   "execution_count": 20,
   "metadata": {},
   "outputs": [],
   "source": [
    "key_features = ['avg_hits','avg_pageviews','visitNumber','bounces','subContinent_Northern America','channelGrouping_Referral','operatingSystem_Macintosh']\n",
    "train_data = combined[key_features]"
   ]
  },
  {
   "cell_type": "code",
   "execution_count": 33,
   "metadata": {},
   "outputs": [
    {
     "data": {
      "text/html": [
       "<div>\n",
       "<style scoped>\n",
       "    .dataframe tbody tr th:only-of-type {\n",
       "        vertical-align: middle;\n",
       "    }\n",
       "\n",
       "    .dataframe tbody tr th {\n",
       "        vertical-align: top;\n",
       "    }\n",
       "\n",
       "    .dataframe thead th {\n",
       "        text-align: right;\n",
       "    }\n",
       "</style>\n",
       "<table border=\"1\" class=\"dataframe\">\n",
       "  <thead>\n",
       "    <tr style=\"text-align: right;\">\n",
       "      <th></th>\n",
       "      <th>avg_hits</th>\n",
       "      <th>avg_pageviews</th>\n",
       "      <th>visitNumber</th>\n",
       "      <th>bounces</th>\n",
       "      <th>subContinent_Northern America</th>\n",
       "      <th>channelGrouping_Referral</th>\n",
       "      <th>operatingSystem_Macintosh</th>\n",
       "    </tr>\n",
       "  </thead>\n",
       "  <tbody>\n",
       "    <tr>\n",
       "      <th>1</th>\n",
       "      <td>2.000000</td>\n",
       "      <td>2.0</td>\n",
       "      <td>1</td>\n",
       "      <td>0</td>\n",
       "      <td>1</td>\n",
       "      <td>1</td>\n",
       "      <td>0</td>\n",
       "    </tr>\n",
       "    <tr>\n",
       "      <th>2</th>\n",
       "      <td>1.000000</td>\n",
       "      <td>1.0</td>\n",
       "      <td>1</td>\n",
       "      <td>1</td>\n",
       "      <td>0</td>\n",
       "      <td>0</td>\n",
       "      <td>0</td>\n",
       "    </tr>\n",
       "    <tr>\n",
       "      <th>3</th>\n",
       "      <td>3.000000</td>\n",
       "      <td>2.0</td>\n",
       "      <td>1</td>\n",
       "      <td>0</td>\n",
       "      <td>1</td>\n",
       "      <td>0</td>\n",
       "      <td>0</td>\n",
       "    </tr>\n",
       "    <tr>\n",
       "      <th>4</th>\n",
       "      <td>1.000000</td>\n",
       "      <td>1.0</td>\n",
       "      <td>1</td>\n",
       "      <td>1</td>\n",
       "      <td>1</td>\n",
       "      <td>0</td>\n",
       "      <td>0</td>\n",
       "    </tr>\n",
       "    <tr>\n",
       "      <th>5</th>\n",
       "      <td>2.000000</td>\n",
       "      <td>2.0</td>\n",
       "      <td>1</td>\n",
       "      <td>0</td>\n",
       "      <td>1</td>\n",
       "      <td>0</td>\n",
       "      <td>1</td>\n",
       "    </tr>\n",
       "    <tr>\n",
       "      <th>...</th>\n",
       "      <td>...</td>\n",
       "      <td>...</td>\n",
       "      <td>...</td>\n",
       "      <td>...</td>\n",
       "      <td>...</td>\n",
       "      <td>...</td>\n",
       "      <td>...</td>\n",
       "    </tr>\n",
       "    <tr>\n",
       "      <th>9995</th>\n",
       "      <td>4.000000</td>\n",
       "      <td>4.0</td>\n",
       "      <td>1</td>\n",
       "      <td>0</td>\n",
       "      <td>1</td>\n",
       "      <td>0</td>\n",
       "      <td>0</td>\n",
       "    </tr>\n",
       "    <tr>\n",
       "      <th>9996</th>\n",
       "      <td>1.000000</td>\n",
       "      <td>1.0</td>\n",
       "      <td>1</td>\n",
       "      <td>1</td>\n",
       "      <td>0</td>\n",
       "      <td>0</td>\n",
       "      <td>0</td>\n",
       "    </tr>\n",
       "    <tr>\n",
       "      <th>9997</th>\n",
       "      <td>3.833333</td>\n",
       "      <td>3.5</td>\n",
       "      <td>6</td>\n",
       "      <td>4</td>\n",
       "      <td>6</td>\n",
       "      <td>0</td>\n",
       "      <td>0</td>\n",
       "    </tr>\n",
       "    <tr>\n",
       "      <th>9998</th>\n",
       "      <td>1.000000</td>\n",
       "      <td>1.0</td>\n",
       "      <td>1</td>\n",
       "      <td>1</td>\n",
       "      <td>0</td>\n",
       "      <td>0</td>\n",
       "      <td>0</td>\n",
       "    </tr>\n",
       "    <tr>\n",
       "      <th>9999</th>\n",
       "      <td>1.000000</td>\n",
       "      <td>1.0</td>\n",
       "      <td>1</td>\n",
       "      <td>1</td>\n",
       "      <td>0</td>\n",
       "      <td>0</td>\n",
       "      <td>0</td>\n",
       "    </tr>\n",
       "  </tbody>\n",
       "</table>\n",
       "<p>9999 rows × 7 columns</p>\n",
       "</div>"
      ],
      "text/plain": [
       "      avg_hits  avg_pageviews  visitNumber  bounces  \\\n",
       "1     2.000000            2.0            1        0   \n",
       "2     1.000000            1.0            1        1   \n",
       "3     3.000000            2.0            1        0   \n",
       "4     1.000000            1.0            1        1   \n",
       "5     2.000000            2.0            1        0   \n",
       "...        ...            ...          ...      ...   \n",
       "9995  4.000000            4.0            1        0   \n",
       "9996  1.000000            1.0            1        1   \n",
       "9997  3.833333            3.5            6        4   \n",
       "9998  1.000000            1.0            1        1   \n",
       "9999  1.000000            1.0            1        1   \n",
       "\n",
       "      subContinent_Northern America  channelGrouping_Referral  \\\n",
       "1                                 1                         1   \n",
       "2                                 0                         0   \n",
       "3                                 1                         0   \n",
       "4                                 1                         0   \n",
       "5                                 1                         0   \n",
       "...                             ...                       ...   \n",
       "9995                              1                         0   \n",
       "9996                              0                         0   \n",
       "9997                              6                         0   \n",
       "9998                              0                         0   \n",
       "9999                              0                         0   \n",
       "\n",
       "      operatingSystem_Macintosh  \n",
       "1                             0  \n",
       "2                             0  \n",
       "3                             0  \n",
       "4                             0  \n",
       "5                             1  \n",
       "...                         ...  \n",
       "9995                          0  \n",
       "9996                          0  \n",
       "9997                          0  \n",
       "9998                          0  \n",
       "9999                          0  \n",
       "\n",
       "[9999 rows x 7 columns]"
      ]
     },
     "execution_count": 33,
     "metadata": {},
     "output_type": "execute_result"
    }
   ],
   "source": [
    "split_data = train_data.iloc[1:10000,]\n",
    "split_data"
   ]
  },
  {
   "cell_type": "code",
   "execution_count": 32,
   "metadata": {},
   "outputs": [
    {
     "data": {
      "image/png": "[encoded data removed]",
      "text/plain": [
       "<Figure size 900x600 with 1 Axes>"
      ]
     },
     "metadata": {
      "needs_background": "light"
     },
     "output_type": "display_data"
    }
   ],
   "source": [
    "import matplotlib.pyplot as plt\n",
    "from scipy.cluster.hierarchy import linkage, dendrogram\n",
    "\n",
    "plt.rcParams['figure.dpi'] = 150\n",
    "\n",
    "customer = split_data.index.values\n",
    "customer_type = list(customer)\n",
    "mergings = linkage(split_data, method='complete')\n",
    "\n",
    "dendrogram(mergings,\n",
    "           labels= customer_type,\n",
    "           leaf_rotation=90,\n",
    "           leaf_font_size=6)\n",
    "plt.show()"
   ]
  },
  {
   "cell_type": "markdown",
   "metadata": {},
   "source": [
    "# t-SNE"
   ]
  },
  {
   "cell_type": "code",
   "execution_count": null,
   "metadata": {},
   "outputs": [],
   "source": [
    "import matplotlib.pyplot as plt\n",
    "import math\n",
    "from sklearn.manifold import TSNE\n",
    "model = TSNE(learning_rate = 100, perplexity=math.sqrt(train_data.shape[1]) )\n",
    "Tsne_transformed = model.fit_transform(train_data)\n"
   ]
  },
  {
   "cell_type": "code",
   "execution_count": null,
   "metadata": {},
   "outputs": [],
   "source": [
    "xs = Tsne_transformed[:,0]\n",
    "ys = Tsne_transformed[:,1]\n",
    "plt.scatter(xs,ys, alpha=0.5)\n",
    "for x, y, customer in zip(xs, ys, customer_id):\n",
    "    plt.annotate(customer, (x, y), fontsize=10, alpha=0.75)\n",
    "plt.show()\n",
    "plt.figure(figsize = (60,60))"
   ]
  },
  {
   "cell_type": "code",
   "execution_count": null,
   "metadata": {},
   "outputs": [],
   "source": [
    "y = df2.TransactionRevenue\n",
    "x = df2.visitNumber\n",
    "plt.scatter(x, y)"
   ]
  },
  {
   "cell_type": "code",
   "execution_count": null,
   "metadata": {},
   "outputs": [],
   "source": [
    "df_revenue_pageview_hit = df2.iloc[:,1:4]\n",
    "\n",
    "corr = df_revenue_pageview_hit.corr(method ='pearson') \n",
    "import matplotlib.pyplot as plt\n",
    "sns.set(style=\"white\")\n",
    "\n",
    "# Set up the matplotlib figure\n",
    "f, ax = plt.subplots(figsize=(11, 9))\n",
    "\n",
    "# Generate a mask for the upper triangle\n",
    "mask = np.zeros_like(corr, dtype=np.bool)\n",
    "mask[np.triu_indices_from(mask)] = True\n",
    "\n",
    "# Generate a custom diverging colormap\n",
    "cmap = sns.diverging_palette(220, 10, as_cmap=True)\n",
    "\n",
    "# Draw the heatmap with the mask and correct aspect ratio\n",
    "sns.heatmap(corr, mask=mask, cmap=cmap, vmax=.9, center=0,\n",
    "            square=True, linewidths=.5, cbar_kws={\"shrink\": .5}, annot = True)"
   ]
  },
  {
   "cell_type": "code",
   "execution_count": null,
   "metadata": {},
   "outputs": [],
   "source": []
  },
  {
   "cell_type": "markdown",
   "metadata": {},
   "source": [
    "# Modeling Section\n"
   ]
  },
  {
   "cell_type": "code",
   "execution_count": 32,
   "metadata": {},
   "outputs": [],
   "source": [
    "import pandas as pd\n",
    "from sklearn.model_selection import cross_validate\n",
    "import matplotlib.pyplot as plt\n",
    "import numpy as np\n",
    "import pandas as pd\n",
    "from sklearn.model_selection import cross_val_score\n",
    "from sklearn.ensemble import RandomForestRegressor\n",
    "from sklearn.ensemble import GradientBoostingRegressor\n",
    "from bayes_opt import BayesianOptimization\n",
    "import warnings\n",
    "import math\n",
    "from sklearn.metrics import mean_squared_error\n",
    "from sklearn.linear_model import LinearRegression\n",
    "import statsmodels\n",
    "from sklearn.model_selection import train_test_split\n",
    "from scipy.stats import shapiro"
   ]
  },
  {
   "cell_type": "code",
   "execution_count": null,
   "metadata": {},
   "outputs": [],
   "source": [
    "cluster0=pd.read_csv('Cluster0.csv')\n",
    "cluster1=pd.read_csv('Cluster1.csv')\n",
    "cluster1=pd.concat([cluster0,cluster1])\n",
    "cluster2=pd.read_csv('Cluster2.csv')\n",
    "cluster3=pd.read_csv('Cluster3.csv')\n",
    "cluster4=pd.read_csv('Cluster4.csv')\n",
    "cluster1=cluster1.drop(columns=['fullVisitorId'])\n",
    "cluster2=cluster2.drop(columns=['fullVisitorId'])\n",
    "cluster3=cluster3.drop(columns=['fullVisitorId'])\n",
    "cluster4=cluster4.drop(columns=['fullVisitorId'])\n",
    "y1=cluster1.iloc[:,1]\n",
    "x1=cluster1.iloc[:,2:]\n",
    "y2=cluster2.iloc[:,2]\n",
    "x2=cluster2.iloc[:,2:]\n",
    "y3=cluster3.iloc[:,1]\n",
    "x3=cluster3.iloc[:,2:]\n",
    "y4=cluster4.iloc[:,1]\n",
    "x4=cluster4.iloc[:,2:]\n"
   ]
  },
  {
   "cell_type": "markdown",
   "metadata": {},
   "source": [
    "# Modeling for cluster 1 ---- Similar to rest of 3 "
   ]
  },
  {
   "cell_type": "code",
   "execution_count": null,
   "metadata": {},
   "outputs": [],
   "source": [
    "import pandas as pd\n",
    "from sklearn.model_selection import cross_validate\n",
    "import matplotlib.pyplot as plt\n",
    "import numpy as np\n",
    "import pandas as pd\n",
    "from sklearn.model_selection import cross_val_score\n",
    "from sklearn.ensemble import RandomForestRegressor\n",
    "from sklearn.ensemble import GradientBoostingRegressor\n",
    "from bayes_opt import BayesianOptimization\n",
    "import warnings\n",
    "import math\n",
    "from sklearn.metrics import mean_squared_error\n",
    "from sklearn.linear_model import LinearRegression\n",
    "import statsmodels\n",
    "from sklearn.model_selection import train_test_split\n",
    "from scipy.stats import shapiro"
   ]
  },
  {
   "cell_type": "code",
   "execution_count": null,
   "metadata": {},
   "outputs": [],
   "source": [
    "# Spliting test and train for cross-validation \n",
    "xtrain, X_test, ytrain, y_test = train_test_split(\n",
    "x1, y1, test_size=0.5, random_state=42)\n",
    "clf=RandomForestRegressor()\n",
    "clf.fit(xtrain, ytrain)\n",
    "importantscores=dict(zip(xtrain.columns,clf.feature_importances_))\n",
    "x = importantscores\n",
    "import matplotlib.pyplot as plt\n",
    "plot={k: v for k, v in sorted(x.items(), key=lambda item: item[1])[::-1]}\n",
    "plt.rcParams[\"figure.figsize\"] = (30,5)\n",
    "feature=list(plot.keys())[:3]\n",
    "importance=list(plot.values())[:3]\n",
    "col=[]\n",
    "for i in X_test.columns:\n",
    "    if i in feature:\n",
    "        col.append(i)\n",
    "X_test=X_test.loc[:,col]"
   ]
  },
  {
   "cell_type": "markdown",
   "metadata": {},
   "source": [
    "* Using Random Forest to find feature importance "
   ]
  },
  {
   "cell_type": "code",
   "execution_count": null,
   "metadata": {},
   "outputs": [],
   "source": [
    "xtrain, X_test, ytrain, y_test = train_test_split(\n",
    "x, y, test_size=0.5, random_state=42)\n",
    "clf=RandomForestRegressor()\n",
    "clf.fit(xtrain, ytrain)\n",
    "importantscores=dict(zip(xtrain.columns,clf.feature_importances_))\n",
    "x = importantscores\n",
    "import matplotlib.pyplot as plt\n",
    "plot={k: v for k, v in sorted(x.items(), key=lambda item: item[1])[::-1]}\n",
    "plt.rcParams[\"figure.figsize\"] = (30,5)\n",
    "feature=list(plot.keys())[:6]\n",
    "importance=list(plot.values())[:6]\n",
    "col=[]\n",
    "for i in X_test.columns:\n",
    "    if i in feature:\n",
    "        col.append(i)\n",
    "X_test=X_test.loc[:,col]"
   ]
  },
  {
   "cell_type": "code",
   "execution_count": null,
   "metadata": {},
   "outputs": [],
   "source": [
    "# Plot the feature importance graph \n",
    "import seaborn as sns\n",
    "sns.set(font_scale=2) \n",
    "plt.rcParams[\"figure.figsize\"] = (30,10)\n",
    "sns.barplot(y=list(plot.keys())[:10],x=list(plot.values())[:10],palette=\"Blues_d\").set_title(\"Feature Importance\")"
   ]
  },
  {
   "cell_type": "code",
   "execution_count": null,
   "metadata": {},
   "outputs": [],
   "source": [
    "col=[]\n",
    "for i in X_test.columns:\n",
    "    if i in feature:\n",
    "        col.append(i)\n",
    "X_test=X_test.loc[:,col]"
   ]
  },
  {
   "cell_type": "markdown",
   "metadata": {},
   "source": [
    "* using BayesianOptimization to find the optimal parameters for all models \n",
    "* This is similar to use RandomizedSearchCV or gridsearch "
   ]
  },
  {
   "cell_type": "code",
   "execution_count": null,
   "metadata": {},
   "outputs": [],
   "source": [
    "def train_model(max_depth, \n",
    "                ntrees,\n",
    "                min_rows,\n",
    "                learning_rate,\n",
    "                max_features\n",
    "                ):\n",
    "    params = {\n",
    "        'max_depth': int(max_depth),\n",
    "        'ntrees': int(ntrees),\n",
    "        'learning_rate':int(learning_rate),\n",
    "        'min_rows': int(min_rows),\n",
    "        \"max_features\":int(max_features)\n",
    "    }\n",
    "    clf=GradientBoostingRegressor()\n",
    "    #different models used are listed below \n",
    "    #clf=RandomForestRegressor() \n",
    "    #clf=linear_model.Lasso()\n",
    "    #clf=Ridge()\n",
    "    #clf=XGBRegressor()\n",
    "    return -sum(cross_val_score(clf,X_test,y_test, cv=5,scoring='neg_mean_squared_error'))/5\n",
    "bounds = {\n",
    "    'max_depth':(5,20),\n",
    "    'ntrees': (100,1000),\n",
    "    'learning_rate':(0.0001,0.9),\n",
    "    'min_rows':(10,30),\n",
    "    'max_features':(2,90)\n",
    "}\n",
    "Boptimizer = BayesianOptimization(\n",
    "    f=train_model,\n",
    "    pbounds=bounds,\n",
    "    random_state=1\n",
    ")\n",
    "GBRoptimizer.maximize(init_points=10, n_iter=4)\n",
    "GBRoptimizer.max\n"
   ]
  },
  {
   "cell_type": "markdown",
   "metadata": {},
   "source": [
    "* We can compare the RMSE for each 1) Test_set 2) Train_set 3) CV - Three should be very similar to each other. \n",
    "* Please note that here test_set is only the test that is splited out from the original train dataset. As such, we do have the responses values.\n",
    "* See below as demo for comparison. If three RMSE do not match, we should keep updating paramters to find the optimal \n",
    "* As such this is a long process of identify the optimal parameters. \n",
    "* 1) GridSearch 2) BaysianOptimization 3) RandomizedSearch CV are more efficient. \n"
   ]
  },
  {
   "cell_type": "code",
   "execution_count": null,
   "metadata": {},
   "outputs": [],
   "source": [
    "# Test_Set RMSE \n",
    "gb.fit(x_train, y_train)\n",
    "y_pred_Gboost = gb.predict(x_test)\n",
    "from sklearn.metrics import mean_squared_error as MSE\n",
    "mse_test_Gboost = MSE(y_test, y_pred_Gboost)\n",
    "rmse_test_Gboost = mse_test_Gboost**(1/2)\n",
    "print('Test set RMSE of gb: {:.15f}'.format(rmse_test_Gboost))"
   ]
  },
  {
   "cell_type": "code",
   "execution_count": null,
   "metadata": {},
   "outputs": [],
   "source": [
    "# Train_Set RMSE \n",
    "gb.fit(x_train, y_train)\n",
    "y_train_pred = gb.predict(x_train)\n",
    "mse_train_Gboost = MSE(y_train, y_train_pred)\n",
    "rmse_train_Gboost = mse_train_Gboost**(1/2)\n",
    "print('Train set RMSE of gb: {:.15f}'.format(rmse_train_Gboost))"
   ]
  },
  {
   "cell_type": "code",
   "execution_count": null,
   "metadata": {},
   "outputs": [],
   "source": [
    "# CV RMSE\n",
    "from sklearn.model_selection import cross_val_score\n",
    "MSE_CV_scores_gb = - cross_val_score(gb, x_train, y_train, cv=10, \n",
    "                                  scoring='neg_mean_squared_error', n_jobs=-1) \n",
    "RMSE_CV_gb = (MSE_CV_scores_gb.mean())**(1/2)\n",
    "print('CV RMSE gb: {:.2f}'.format(RMSE_CV_gb)) "
   ]
  },
  {
   "cell_type": "markdown",
   "metadata": {},
   "source": [
    "# Modeling Conclusion:\n",
    "* Based on the best target rate from above, we determine that GradientBoosting had the best result with the lowest RMSE"
   ]
  },
  {
   "cell_type": "markdown",
   "metadata": {},
   "source": [
    "# Other considerations:\n",
    "\n",
    "* 1) Imbalancing data \n",
    "    - Manual random select to balance \n",
    "    - SMOTE\n",
    "* 2) Prediction by session level (everything above is by customer level) - Exact the same process as above - see another notebook"
   ]
  },
  {
   "cell_type": "markdown",
   "metadata": {},
   "source": [
    "# Balancing the imbalance data - Manually"
   ]
  },
  {
   "cell_type": "code",
   "execution_count": null,
   "metadata": {},
   "outputs": [],
   "source": [
    "revenue_df=copy.deepcopy(df_train)\n",
    "revenue_df['has_revenue']=0\n",
    "revenue_df.loc[revenue_df['log_revenue']>0,'has_revenue']=1"
   ]
  },
  {
   "cell_type": "code",
   "execution_count": null,
   "metadata": {},
   "outputs": [],
   "source": [
    "plt.figure(figsize=(8, 8))\n",
    "sns.countplot('has_revenue', data=revenue_df)\n",
    "plt.title('Imbalanced Classes')\n",
    "plt.show()"
   ]
  },
  {
   "cell_type": "markdown",
   "metadata": {},
   "source": [
    "* Manually make the imbalance data balance"
   ]
  },
  {
   "cell_type": "code",
   "execution_count": null,
   "metadata": {},
   "outputs": [],
   "source": [
    "# Shuffle the Dataset.\n",
    "shuffled_df = df_train.sample(frac=1,random_state=4)\n",
    "\n",
    "# Put all the fraud class in a separate dataset.\n",
    "revenue_df = shuffled_df.loc[shuffled_df['log_revenue']>0]\n",
    "\n",
    "#Randomly select 492 observations from the non-fraud (majority class)\n",
    "non_revenue_df = shuffled_df.loc[shuffled_df['log_revenue'] == 0].sample(n=len(revenu_df[revenue_df.has_revenue ==1]),random_state=42)\n",
    "\n",
    "# Concatenate both dataframes again\n",
    "balanced_df = pd.concat([revenue_df, non_revenue_df])\n",
    "balanced_df['has_revenue']=0\n",
    "balanced_df.loc[balanced_df['log_revenue']>0,'has_revenue']=1\n",
    "\n",
    "#plot the dataset after the undersampling\n",
    "plt.figure(figsize=(8, 8))\n",
    "sns.countplot('has_revenue', data=balanced_df)\n",
    "plt.title('Balanced Classes')\n",
    "plt.show()\n",
    "\n",
    "# Once you have the artificial dataset, you run the model again. "
   ]
  },
  {
   "cell_type": "markdown",
   "metadata": {},
   "source": [
    "# Balancing the imbalance data - SMOTE"
   ]
  },
  {
   "cell_type": "code",
   "execution_count": null,
   "metadata": {},
   "outputs": [],
   "source": [
    "df1 = df_total.drop(\"fullVisitorId\", axis=1)\n",
    "dfx1 = df1.drop(\"trans_label\", axis=1)\n",
    "dfy1 = pd.DataFrame({\"trans_label\" : df1[\"trans_label\"]})\n",
    "print(dfx1.shape, dfy1.shape)\n",
    "dfy1[\"trans_label\"].value_counts()"
   ]
  },
  {
   "cell_type": "code",
   "execution_count": null,
   "metadata": {},
   "outputs": [],
   "source": [
    "# Resample the dataset\n",
    "smote = SMOTE(sampling_strategy=0.125)\n",
    "dfx1_resampled, dfy1_resampled = smote.fit_resample(dfx1, dfy1)\n",
    "print(dfx1_resampled.shape, dfy1_resampled.shape)"
   ]
  },
  {
   "cell_type": "code",
   "execution_count": null,
   "metadata": {},
   "outputs": [],
   "source": [
    "dfy1_resampled[\"trans_label\"].value_counts()"
   ]
  },
  {
   "cell_type": "code",
   "execution_count": null,
   "metadata": {},
   "outputs": [],
   "source": []
  },
  {
   "cell_type": "code",
   "execution_count": null,
   "metadata": {},
   "outputs": [],
   "source": []
  }
 ],
 "metadata": {
  "kernelspec": {
   "display_name": "Python 3",
   "language": "python",
   "name": "python3"
  },
  "language_info": {
   "codemirror_mode": {
    "name": "ipython",
    "version": 3
   },
   "file_extension": ".py",
   "mimetype": "text/x-python",
   "name": "python",
   "nbconvert_exporter": "python",
   "pygments_lexer": "ipython3",
   "version": "3.7.3"
  }
 },
 "nbformat": 4,
 "nbformat_minor": 2
}
